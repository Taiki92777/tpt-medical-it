{
 "cells": [
  {
   "cell_type": "markdown",
   "metadata": {},
   "source": [
    "# ベイズ勉強会 Part 4 多次元ガウス分布のベイズ推論\n",
    "> 多次元ガウス分布のベイズ推論を実践する\n",
    "\n",
    "- toc: true \n",
    "- badges: false\n",
    "- comments: true\n",
    "- categories: [bayes]\n",
    "- image: images/dag1.png"
   ]
  },
  {
   "cell_type": "markdown",
   "metadata": {},
   "source": [
    "#hide\n",
    "$$\\newcommand{\\bm}[1]{{\\bf #1}}$$"
   ]
  },
  {
   "cell_type": "markdown",
   "metadata": {},
   "source": [
    "> Tips: 以下のコマンドでベクトル・行列の太字表記が可能になる。"
   ]
  },
  {
   "cell_type": "markdown",
   "metadata": {},
   "source": [
    ">> \\newcommand{\\bm}[1]{{\\bf #1}}\n",
    ">>\n",
    ">> デフォルト $x$\n",
    ">> 太字 $\\bm{x}$"
   ]
  },
  {
   "cell_type": "markdown",
   "metadata": {},
   "source": [
    "ベイズ勉強会資料は『ベイズ推論による機械学習入門』{% fn 1 %}を元に、途中式計算をできるだけ省略せずに行ったものです。"
   ]
  },
  {
   "cell_type": "markdown",
   "metadata": {},
   "source": [
    "# 多次元ガウス分布\n",
    "\n",
    "多次元ガウス分布はD次元ベクトル$\\bm{x} \\in \\mathbb{R}^D$を生成するための確率分布であり、以下の確率密度関数で表される。"
   ]
  },
  {
   "cell_type": "markdown",
   "metadata": {},
   "source": [
    "> Important: 多次元ガウス分布の確率密度関数 $$\\frac{1}{\\sqrt{(2\\pi)^D |\\bm{\\Sigma}}|}\\exp{\\{-\\frac{1}{2}(\\bm{x}-\\bm{\\mu})^\\mathrm{T} \\bm{\\Sigma}^{-1} (\\bm{x}-\\bm{\\mu})\\}}$$"
   ]
  },
  {
   "cell_type": "markdown",
   "metadata": {},
   "source": [
    "$\\bm{\\mu} \\in \\mathbb{R}^D$は平均パラメータ、$\\bm{\\Sigma}$は共分散行列パラメータでD×Dの正定値行列である必要がある。"
   ]
  },
  {
   "cell_type": "markdown",
   "metadata": {},
   "source": [
    "> Important: 正定値行列"
   ]
  },
  {
   "cell_type": "markdown",
   "metadata": {},
   "source": [
    ">> 固有値が全て正の実正方行列を正定値行列と呼ぶ。実正方行列$\\bm{A}$が正定値行列である必要十分条件は任意の非ゼロベクトル$\\bm{x}$に関して、\n",
    ">>\n",
    ">> $$\\bm{x}^\\mathrm{T}\\bm{A}\\bm{x} > 0$$\n",
    ">>\n",
    ">> が成り立つこと。正定値行列の逆行列も正定値行列である。また全ての固有値が正であることから、\n",
    ">>\n",
    ">> $$|\\bm{A}| > 0$$\n",
    ">>\n",
    ">> が成り立つ。"
   ]
  },
  {
   "cell_type": "markdown",
   "metadata": {},
   "source": [
    "多次元ガウス分布を対数で表示すると、"
   ]
  },
  {
   "cell_type": "markdown",
   "metadata": {},
   "source": [
    "> Important: 多次元ガウス分布の対数表示 $$\\ln \\mathcal{N}(\\bm{x}|\\bm{\\mu},\\bm{\\Sigma})=-\\frac{1}{2}\\{(\\bm{x}-\\bm{\\mu})^\\mathrm{T}\\bm{\\Sigma}^{-1}(\\bm{x}-\\bm{\\mu}) + \\ln |\\bm{\\Sigma}| + D\\ln 2\\pi\\}$$"
   ]
  },
  {
   "cell_type": "markdown",
   "metadata": {},
   "source": [
    "1次元ガウス分布と同様に分散の逆元として精度を定義できる。共分散行列$\\bm{\\Sigma}$の逆行列として精度行列$\\bm{\\Lambda}$を定義する。すなわち$\\bm{\\Lambda}=\\bm{\\Sigma}^{-1}$である。"
   ]
  },
  {
   "cell_type": "markdown",
   "metadata": {},
   "source": [
    "> Important: 多次元ガウス分布を精度行列で表した場合 $$\\frac{1}{\\sqrt{(2\\pi)^D}}|\\bm{\\Lambda}|^{\\frac{1}{2}}\\exp{\\{-\\frac{1}{2}(\\bm{x}-\\bm{\\mu})^\\mathrm{T} \\bm{\\Lambda} (\\bm{x}-\\bm{\\mu})\\}}$$"
   ]
  },
  {
   "cell_type": "markdown",
   "metadata": {},
   "source": [
    "> Important: 多次元ガウス分布の対数表示(精度行列で表した場合) $$\\ln \\mathcal{N}(\\bm{x}|\\bm{\\mu},\\bm{\\Lambda}^{-1}=-\\frac{1}{2}\\{(\\bm{x}-\\bm{\\mu})^\\mathrm{T}\\bm{\\Lambda}(\\bm{x}-\\bm{\\mu}) - \\ln |\\bm{\\Lambda}| + D\\ln 2\\pi\\}$$"
   ]
  },
  {
   "cell_type": "markdown",
   "metadata": {},
   "source": [
    "この多次元ガウス分布のベイズ推論を行っていく。1次元ガウス分布と同様、平均パラメータ未知、精度パラメータ未知、両方未知の場合の順に行う。なお本稿では特に断り無い限り多次元ガウス分布のことをガウス分布と呼ぶ。\n",
    "\n",
    "# 平均未知\n",
    "\n",
    "執筆中\n",
    "\n",
    "# 精度行列未知\n",
    "\n",
    "執筆中\n",
    "\n",
    "# 平均・精度行列未知\n",
    "\n",
    "執筆中"
   ]
  },
  {
   "cell_type": "markdown",
   "metadata": {},
   "source": [
    "{{ '[須山敦志. ベイズ推論による機械学習入門. 講談社, 2017](https://www.kspub.co.jp/book/detail/1538320.html)' | fndetail: 1 }}"
   ]
  }
 ],
 "metadata": {
  "kernelspec": {
   "display_name": "Julia 1.4.0",
   "language": "julia",
   "name": "julia-1.4"
  },
  "language_info": {
   "file_extension": ".jl",
   "mimetype": "application/julia",
   "name": "julia",
   "version": "1.4.0"
  }
 },
 "nbformat": 4,
 "nbformat_minor": 2
}
