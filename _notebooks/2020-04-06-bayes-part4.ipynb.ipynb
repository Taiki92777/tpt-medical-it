{
 "cells": [
  {
   "cell_type": "markdown",
   "metadata": {},
   "source": [
    "# ベイズ勉強会 Part 4 多次元ガウス分布のベイズ推論\n",
    "> 多次元ガウス分布のベイズ推論を実践する\n",
    "\n",
    "- toc: true \n",
    "- badges: false\n",
    "- comments: true\n",
    "- categories: [bayes]\n",
    "- image: images/dag1.png"
   ]
  },
  {
   "cell_type": "markdown",
   "metadata": {},
   "source": [
    "#hide\n",
    "$$\\newcommand{\\bm}[1]{{\\bf #1}}$$"
   ]
  },
  {
   "cell_type": "markdown",
   "metadata": {},
   "source": [
    "ベイズ勉強会資料は『ベイズ推論による機械学習入門』{% fn 1 %}を元に、途中式計算をできるだけ省略せずに行ったものです。"
   ]
  },
  {
   "cell_type": "markdown",
   "metadata": {},
   "source": [
    "# 多次元ガウス分布\n",
    "\n",
    "多次元ガウス分布はD次元ベクトル$\\bm{x} \\in \\mathbb{R}^D$を生成するための確率分布であり、以下の確率密度関数で表される。"
   ]
  },
  {
   "cell_type": "markdown",
   "metadata": {},
   "source": [
    "> Important: 多次元ガウス分布の確率密度関数 $$\\frac{1}{\\sqrt{(2\\pi)^D |\\bm{\\Sigma}}|}\\exp{\\{-\\frac{1}{2}(\\bm{x}-\\bm{\\mu})^\\mathrm{T} \\bm{\\Sigma}^{-1} (\\bm{x}-\\bm{\\mu})\\}}$$"
   ]
  },
  {
   "cell_type": "markdown",
   "metadata": {},
   "source": [
    "$\\bm{\\mu} \\in \\mathbb{R}^D$は平均パラメータ、$\\bm{\\Sigma}$は共分散行列パラメータでD×Dの正定値行列である必要がある。"
   ]
  },
  {
   "cell_type": "markdown",
   "metadata": {},
   "source": [
    "> Important: 正定値行列"
   ]
  },
  {
   "cell_type": "markdown",
   "metadata": {},
   "source": [
    ">> 固有値が全て正の実正方行列を正定値行列と呼ぶ。実正方行列$\\bm{A}$が正定値行列である必要十分条件は任意の非ゼロベクトル$\\bm{x}$に関して、\n",
    ">>\n",
    ">> $$\\bm{x}^\\mathrm{T}\\bm{A}\\bm{x} > 0$$\n",
    ">>\n",
    ">> が成り立つこと。正定値行列の逆行列も正定値行列である。また全ての固有値が正であることから、\n",
    ">>\n",
    ">> $$|\\bm{A}| > 0$$\n",
    ">>\n",
    ">> が成り立つ。\n",
    ">>\n",
    ">> また、対称行列であるので\n",
    ">>\n",
    ">> $$\\bm{A}^{\\mathrm{T}} = \\bm{A}$$\n",
    ">>\n",
    ">> が成り立つ。"
   ]
  },
  {
   "cell_type": "markdown",
   "metadata": {},
   "source": [
    "多次元ガウス分布を対数で表示すると、"
   ]
  },
  {
   "cell_type": "markdown",
   "metadata": {},
   "source": [
    "> Important: 多次元ガウス分布の対数表示 $$\\ln \\mathcal{N}(\\bm{x}|\\bm{\\mu},\\bm{\\Sigma})=-\\frac{1}{2}\\{(\\bm{x}-\\bm{\\mu})^\\mathrm{T}\\bm{\\Sigma}^{-1}(\\bm{x}-\\bm{\\mu}) + \\ln |\\bm{\\Sigma}| + D\\ln 2\\pi\\}$$"
   ]
  },
  {
   "cell_type": "markdown",
   "metadata": {},
   "source": [
    "1次元ガウス分布と同様に分散の逆元として精度を定義できる。共分散行列$\\bm{\\Sigma}$の逆行列として精度行列$\\bm{\\Lambda}$を定義する。すなわち$\\bm{\\Lambda}=\\bm{\\Sigma}^{-1}$である。"
   ]
  },
  {
   "cell_type": "markdown",
   "metadata": {},
   "source": [
    "> Important: 多次元ガウス分布を精度行列で表した場合 $$\\frac{1}{\\sqrt{(2\\pi)^D}}|\\bm{\\Lambda}|^{\\frac{1}{2}}\\exp{\\{-\\frac{1}{2}(\\bm{x}-\\bm{\\mu})^\\mathrm{T} \\bm{\\Lambda} (\\bm{x}-\\bm{\\mu})\\}}$$"
   ]
  },
  {
   "cell_type": "markdown",
   "metadata": {},
   "source": [
    "> Important: 多次元ガウス分布の対数表示(精度行列で表した場合) $$\\ln \\mathcal{N}(\\bm{x}|\\bm{\\mu},\\bm{\\Lambda}^{-1})=-\\frac{1}{2}\\{(\\bm{x}-\\bm{\\mu})^\\mathrm{T}\\bm{\\Lambda}(\\bm{x}-\\bm{\\mu}) - \\ln |\\bm{\\Lambda}| + D\\ln 2\\pi\\}$$"
   ]
  },
  {
   "cell_type": "markdown",
   "metadata": {},
   "source": [
    "この多次元ガウス分布のベイズ推論を行っていく。1次元ガウス分布と同様、平均パラメータ未知、精度パラメータ未知、両方未知の場合の順に行う。なお本稿では特に断り無い限り多次元ガウス分布のことをガウス分布と呼ぶ。\n",
    "\n",
    "# 平均未知\n",
    "\n",
    "D次元の確率変数$\\bm{x} \\in \\mathbb{R}^D$の平均パラメータ$\\bm{\\mu} \\in \\mathbb{R}^D$のみが未知で、精度行列$\\bm{\\Lambda} \\in \\mathbb{R}^{D \\times D}$は既に与えられている、またはハイパーパラメータとして、ベイズ推論を行ってみる。N個のデータ$\\bm{X} = \\{\\bm{x}_1,\\dots,\\bm{x}_N\\}$が観測されていて、予測する未知の観測を$\\bm{x}_*$とおく。\n",
    "\n",
    "## モデルの構築\n",
    "\n",
    "平均のみが未知の時は、ガウス分布を事前分布とすることで共役性が満たされることがわかっている。$\\bm{m} \\in \\mathbb{R}^D, \\bm{\\Lambda}_{\\mu} \\in \\mathbb{R}^{D \\times D}$をハイパーパラメータとして同時分布は次のようになる。\n",
    "\n",
    "$$\n",
    "\\begin{eqnarray}\n",
    "    p(\\bm{X},\\bm{x}_*,\\bm{\\mu}) &=& p(\\bm{X}|\\bm{\\mu})p(\\bm{x}_*|\\bm{\\mu})p(\\bm{\\mu}) \\\\\n",
    "    p(\\bm{X}|\\bm{\\mu}) &=& \\Pi_{n=1}^{N} \\mathcal{N}(\\bm{x}_n|\\bm{\\mu},\\bm{\\Lambda}^{-1}) \\\\\n",
    "    p(\\bm{x}_*|\\bm{\\mu}) &=& \\mathcal{N}(\\bm{x}_*|\\bm{\\mu},\\bm{\\Lambda}^{-1}) \\\\\n",
    "    p(\\bm{\\mu}) &=& \\mathcal{N}(\\bm{\\mu}|\\bm{m},\\bm{\\Lambda}_{\\mu}^{-1})\n",
    "\\end{eqnarray}\n",
    "$$\n",
    "\n",
    "## 事後分布の推論\n",
    "\n",
    "ベイズの定理を用いて事後分布$p(\\bm{\\mu}|\\bm{X})$は次のようになる。\n",
    "\n",
    "$$\n",
    "\\begin{eqnarray}\n",
    "    p(\\bm{\\mu}|\\bm{X}) &\\propto& p(\\bm{X}|\\bm{\\mu})p(\\bm{\\mu}) \\\\\n",
    "    &=& \\{ \\Pi_{n=1}^{N} p(\\bm{x}_n|\\bm{\\mu})\\}p(\\bm{\\mu}) \\\\\n",
    "    &=& \\Pi_{n=1}^{N} \\{\\mathcal{N}(\\bm{x}_n|\\bm{\\mu},\\bm{\\Lambda}^{-1})\\} \\mathcal{N}(\\bm{\\mu}|\\bm{m},\\bm{\\Lambda}_{\\mu}^{-1})\n",
    "\\end{eqnarray}\n",
    "$$\n",
    "\n",
    "対数をとると\n",
    "\n",
    "$$\n",
    "\\begin{eqnarray}\n",
    "    \\ln p(\\bm{\\mu}|\\bm{X}) &=& \\Sigma_{n=1}^{N} \\ln \\mathcal{N}(\\bm{x}_n|\\bm{\\mu},\\bm{\\Lambda}^{-1}) + \\ln \\mathcal{N}(\\bm{\\mu}|\\bm{m},\\bm{\\Lambda}_{\\mu}^{-1}) + const. \\\\\n",
    "    &=& -\\frac{1}{2} \\Sigma_{n=1}^{N} (\\bm{x}_n-\\bm{\\mu})^\\mathrm{T}\\bm{\\Lambda}(\\bm{x}_n-\\bm{\\mu}) - \\frac{1}{2}(\\bm{\\mu}-\\bm{m})^\\mathrm{T}\\bm{\\Lambda}_{\\mu}(\\bm{\\mu}-\\bm{m}) + const. \\\\\n",
    "    &=& -\\frac{1}{2} \\Sigma_{n=1}^{N} (\\bm{x}_n^{\\mathrm{T}}-\\bm{\\mu}^{\\mathrm{T}})\\bm{\\Lambda}(\\bm{x}_n-\\bm{\\mu}) - \\frac{1}{2}(\\bm{\\mu}^{\\mathrm{T}}-\\bm{m}^{\\mathrm{T}}) \\bm{\\Lambda}_{\\mu}(\\bm{\\mu}-\\bm{m}) + const. \\\\\n",
    "    &=& \\frac{1}{2}\\Sigma_{n=1}^{N}\\{ \\bm{x}_n^{\\mathrm{T}}\\bm{\\Lambda}\\bm{\\mu}\\} + \\frac{1}{2} \\bm{\\mu}^{\\mathrm{T}} \\bm{\\Lambda}\\Sigma_{n=1}^{N} \\bm{x}_n - \\frac{N}{2} \\bm{\\mu}^{\\mathrm{T}}\\bm{\\Lambda}\\bm{\\mu} - \\frac{1}{2} \\bm{\\mu}^{\\mathrm{T}}\\bm{\\Lambda}_{\\mu}\\bm{\\mu} + \\frac{1}{2}\\bm{\\mu}^{\\mathrm{T}}\\bm{\\Lambda}_{\\mu}\\bm{m} + \\frac{1}{2}\\bm{m}^{\\mathrm{T}}\\bm{\\Lambda}_{\\mu}\\bm{\\mu} + const.\n",
    "\\end{eqnarray}\n",
    "$$"
   ]
  },
  {
   "cell_type": "markdown",
   "metadata": {},
   "source": [
    "ここで、$\\bm{x}_n^{\\mathrm{T}}\\bm{\\Lambda}\\bm{\\mu}$は行数と列数について(1×D)×(D×D)×(D×1)=(1×1)よりスカラーなので次が成り立つ。\n",
    "\n",
    "$$\n",
    "\\begin{eqnarray}\n",
    "    \\bm{x}_n^{\\mathrm{T}}\\bm{\\Lambda}\\bm{\\mu} &=& (\\bm{x}_n^{\\mathrm{T}}\\bm{\\Lambda}\\bm{\\mu})^{\\mathrm{T}}　(スカラーを転置しても同じ) \\\\\n",
    "    &=& \\bm{\\mu}^{\\mathrm{T}} \\bm{\\Lambda}^{\\mathrm{T}} \\bm{x}_n　(これは公式通り) \\\\\n",
    "    &=& \\bm{\\mu}^{\\mathrm{T}} \\bm{\\Lambda} \\bm{x}_n　(\\bm{\\Lambda}は対称行列)\n",
    "\\end{eqnarray}\n",
    "$$\n",
    "\n",
    "$\\bm{m}^{\\mathrm{T}}\\bm{\\Lambda}_{\\mu} \\bm{\\mu}$についても同様であり、\n",
    "\n",
    "$$\n",
    "\\begin{eqnarray}\n",
    "    \\ln p(\\bm{\\mu}|\\bm{X}) &=& \\frac{1}{2}\\Sigma_{n=1}^{N}\\{ \\bm{x}_n^{\\mathrm{T}}\\bm{\\Lambda}\\bm{\\mu}\\} + \\frac{1}{2} \\bm{\\mu}^{\\mathrm{T}} \\bm{\\Lambda}\\Sigma_{n=1}^{N} \\bm{x}_n - \\frac{N}{2} \\bm{\\mu}^{\\mathrm{T}}\\bm{\\Lambda}\\bm{\\mu} - \\frac{1}{2} \\bm{\\mu}^{\\mathrm{T}}\\bm{\\Lambda}_{\\mu}\\bm{\\mu} + \\frac{1}{2}\\bm{\\mu}^{\\mathrm{T}}\\bm{\\Lambda}_{\\mu}\\bm{m} + \\frac{1}{2}\\bm{m}^{\\mathrm{T}}\\bm{\\Lambda}_{\\mu}\\bm{\\mu} + const. \\\\\n",
    "    &=& \\frac{1}{2}\\bm{\\mu}^{\\mathrm{T}} \\bm{\\Lambda}\\Sigma_{n=1}^{N} \\bm{x}_n + \\frac{1}{2}\\bm{\\mu}^{\\mathrm{T}} \\bm{\\Lambda}\\Sigma_{n=1}^{N} \\bm{x}_n - \\frac{N}{2} \\bm{\\mu}^{\\mathrm{T}}\\bm{\\Lambda}\\bm{\\mu} - \\frac{1}{2} \\bm{\\mu}^{\\mathrm{T}}\\bm{\\Lambda}_{\\mu}\\bm{\\mu} + \\frac{1}{2}\\bm{\\mu}^{\\mathrm{T}}\\bm{\\Lambda}_{\\mu}\\bm{m} + + \\frac{1}{2}\\bm{\\mu}^{\\mathrm{T}}\\bm{\\Lambda}_{\\mu}\\bm{m} + const. \\\\\n",
    "    &=& - \\frac{1}{2}\\{ \\bm{\\mu}^{\\mathrm{T}} (N \\bm{\\Lambda}+\\bm{\\Lambda}_{\\mu})\\bm{\\mu} - 2 \\bm{\\mu}^{\\mathrm{T}}(\\bm{\\Lambda} \\Sigma_{n=1}^{N} \\bm{x}_n + \\bm{\\Lambda}_{\\mu} \\bm{m})\\} + const.\n",
    "\\end{eqnarray}\n",
    "$$\n",
    "\n",
    "$\\bm{\\mu}$に関する上に凸の二次関数となり、ガウス分布であることがわかる。1次元と同様に逆算的に計算していく。\n",
    "\n",
    "$$p(\\bm{\\mu}|\\bm{X}) = \\mathcal{N}(\\bm{\\mu}|\\hat{\\bm{m}},\\hat{\\bm{\\Lambda}}_{\\bm{\\mu}}^{-1})$$\n",
    "\n",
    "とおき、対数をとって$\\bm{\\mu}$について整理すると\n",
    "\n",
    "$$\n",
    "\\begin{eqnarray}\n",
    "    \\ln p(\\bm{\\mu}|\\bm{X}) &=& -\\frac{1}{2}\\{(\\bm{\\mu}-\\hat{\\bm{m}})^\\mathrm{T} \\hat{\\bm{\\Lambda}}_{\\bm{\\mu}} (\\bm{\\mu}-\\hat{\\bm{m}}) \\} + const. \\\\\n",
    "    &=& -\\frac{1}{2} \\{\\bm{\\mu}^{\\mathrm{T}} \\hat{\\bm{\\Lambda}}_{\\bm{\\mu}} \\bm{\\mu} - \\hat{\\bm{m}}^{\\mathrm{T}} \\hat{\\bm{\\Lambda}}_{\\bm{\\mu}} \\bm{\\mu} - \\bm{\\mu}^{\\mathrm{T}} \\hat{\\bm{\\Lambda}}_{\\bm{\\mu}} \\hat{\\bm{m}}\\} + const. \\\\\n",
    "    &=& -\\frac{1}{2} \\{\\bm{\\mu}^{\\mathrm{T}} \\hat{\\bm{\\Lambda}}_{\\bm{\\mu}} \\bm{\\mu}-2\\bm{\\mu}^{\\mathrm{T}} \\hat{\\bm{\\Lambda}}_{\\bm{\\mu}} \\hat{\\bm{m}}\\} + const.\n",
    "\\end{eqnarray}\n",
    "$$\n",
    "\n",
    "対応関係を見れば\n",
    "\n",
    "$$\n",
    "\\begin{eqnarray}\n",
    "    \\hat{\\bm{\\Lambda}}_{\\bm{\\mu}} = N\\bm{\\Lambda}+\\bm{\\Lambda}_{\\bm{\\mu}} \\\\\n",
    "    \\hat{\\bm{m}} = \\hat{\\bm{\\Lambda}}_{\\bm{\\mu}}^{-1}(\\bm{\\Lambda} \\Sigma_{n=1}^{N} \\bm{x}_n + \\bm{\\Lambda}_{\\mu} \\bm{m})\n",
    "\\end{eqnarray}\n",
    "$$\n",
    "\n",
    "と事後分布のハイパーパラメータが求まる。\n",
    "\n",
    "## 予測分布の導出\n",
    "\n",
    "執筆中\n",
    "\n",
    "# 精度行列未知\n",
    "\n",
    "執筆中\n",
    "\n",
    "# 平均・精度行列未知\n",
    "\n",
    "執筆中"
   ]
  },
  {
   "cell_type": "markdown",
   "metadata": {},
   "source": [
    "$\\bm{\\mu}^{\\mathrm{T}} \\hat{\\bm{\\Lambda}}_{\\bm{\\mu}} \\bm{\\mu} - \\hat{\\bm{m}}^{\\mathrm{T}} \\hat{\\bm{\\Lambda}}_{\\bm{\\mu}} \\bm{\\mu} - \\bm{\\mu}^{\\mathrm{T}} \\hat{\\bm{\\Lambda}}_{\\bm{\\mu}} \\hat{\\bm{m}}$"
   ]
  },
  {
   "cell_type": "markdown",
   "metadata": {},
   "source": [
    "{{ '[須山敦志. ベイズ推論による機械学習入門. 講談社, 2017](https://www.kspub.co.jp/book/detail/1538320.html)' | fndetail: 1 }}"
   ]
  }
 ],
 "metadata": {
  "kernelspec": {
   "display_name": "Julia 1.4.0",
   "language": "julia",
   "name": "julia-1.4"
  },
  "language_info": {
   "file_extension": ".jl",
   "mimetype": "application/julia",
   "name": "julia",
   "version": "1.4.0"
  }
 },
 "nbformat": 4,
 "nbformat_minor": 2
}
