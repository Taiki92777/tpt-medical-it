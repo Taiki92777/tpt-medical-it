{
 "cells": [
  {
   "cell_type": "markdown",
   "metadata": {},
   "source": [
    "# ベイズ勉強会 Part 1. 離散分布のベイズ推論\n",
    "> 離散分布のベイズ推論を学ぶ\n",
    "\n",
    "- toc: true \n",
    "- badges: false\n",
    "- comments: true\n",
    "- categories: [jupyter]\n",
    "- image: images/chart-preview.png\n",
    "\n",
    "# 概論: ベイズ推論のワークフロー\n",
    "\n",
    "1. 観測データ$\\mathcal{D}$と観測されていない未知の変数$\\mathbf{X}$の同時分布$p(\\mathcal{D}, \\mathbf{X})$を構築\n",
    "2. 事後分布$p(\\mathbf{X}|\\mathcal{D}) = \\frac{p(\\mathcal{D}, \\mathbf{X})}{p(\\mathcal{D})}$を求める。\n",
    "\n",
    "> Note: 観測された変数と未知の変数に分けることで様々なタスクに同様のアプローチで対応できる\n",
    "\n",
    "> Note: 未知のパラメータ$\\theta$を推論した時の予測分布$p(x_*|\\mathcal{D}) = \\int p(x_*|\\theta)p(\\theta|\\mathcal{D}) d\\theta$"
   ]
  },
  {
   "cell_type": "code",
   "execution_count": null,
   "metadata": {},
   "outputs": [],
   "source": []
  }
 ],
 "metadata": {
  "kernelspec": {
   "display_name": "Julia 1.4.0",
   "language": "julia",
   "name": "julia-1.4"
  },
  "language_info": {
   "file_extension": ".jl",
   "mimetype": "application/julia",
   "name": "julia",
   "version": "1.4.0"
  }
 },
 "nbformat": 4,
 "nbformat_minor": 2
}
