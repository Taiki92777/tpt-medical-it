{
 "cells": [
  {
   "cell_type": "markdown",
   "metadata": {},
   "source": [
    "<script src=\"mermaid.min.js\"></script>\n",
    "<script>mermaid.initialize({startOnLoad:true});</script>"
   ]
  },
  {
   "cell_type": "markdown",
   "metadata": {},
   "source": [
    "# ベイズ勉強会 Part 1 ベイズ推論のワークフロー\n",
    "> ベイズ推論の一連の流れを整理する。\n",
    "\n",
    "- toc: true \n",
    "- badges: false\n",
    "- comments: true\n",
    "- categories: [jupyter]\n",
    "- image: dag/dag1.png"
   ]
  },
  {
   "cell_type": "markdown",
   "metadata": {},
   "source": [
    "# 概論: ベイズ推論のワークフロー"
   ]
  },
  {
   "cell_type": "markdown",
   "metadata": {},
   "source": [
    "> Important:\n",
    "> ベイズ推論の共通するワークフロー\n",
    "> 1. 観測データ$\\mathcal{D}$と観測されていない未知の変数$\\mathbf{X}$の同時分布$p(\\mathcal{D}, \\mathbf{X})$を構築\n",
    "> 2. 事後分布$p(\\mathbf{X}|\\mathcal{D}) = \\frac{p(\\mathcal{D}, \\mathbf{X})}{p(\\mathcal{D})}$を求める。"
   ]
  },
  {
   "cell_type": "markdown",
   "metadata": {},
   "source": [
    "今回はさらに事後分布を用いて予測分布を計算するところまでを見る。"
   ]
  },
  {
   "cell_type": "markdown",
   "metadata": {},
   "source": [
    "## 予測分布\n",
    "\n",
    "観測されたデータ$\\mathcal{D}$に対して、パラメタ$\\theta$を持つ確率分布でモデルを組み、新しいデータ$x_*$を予測したい。$\\mathcal{D}$と$x_*$が独立に生成されるとすると、以下のような予測分布を用いることができる。\n",
    "\n",
    "$$p(x_*|\\mathcal{D}) = \\int p(x_*|\\theta)p(\\theta|\\mathcal{D}) d\\theta$$"
   ]
  },
  {
   "cell_type": "markdown",
   "metadata": {},
   "source": [
    "$\\mathcal{D}$, $\\theta$, $x_*$の関係をDAGで表すと次のようになる。\n",
    "\n",
    "![](dag/dag1.png)\n",
    "\n",
    "この時、$\\mathcal{D}$と$x_*$はパラメタ$\\theta$が与えられた条件の下での条件付き独立である。\n",
    "\n",
    "### 同時分布の記述\n",
    "\n",
    "$\\mathcal{D}$と$x_*$がパラメタ$\\theta$が与えられた条件の下での条件付き独立であることから同時分布は以下のようになる。\n",
    "\n",
    "$$\n",
    "p(\\mathcal{D}, x_*, \\theta) = p(\\mathcal{D}|\\theta)p(x_*|\\theta)p(\\theta)\n",
    "$$"
   ]
  },
  {
   "cell_type": "markdown",
   "metadata": {},
   "source": [
    "> Note: $p(\\theta)$は2個必要なのではないかと思うかもしれない。サイコロの目によって動きが決まる駒が2つあり、同時に動かす状況を考えよう。コマの動きを決めるのにサイコロを振る回数は1回である。"
   ]
  },
  {
   "cell_type": "markdown",
   "metadata": {},
   "source": [
    "### 事後分布の推論\n",
    "\n",
    "データ$\\mathcal{D}$だけが手元にある時、残りの変数の事後分布は\n",
    "$$\n",
    "\\begin{eqnarray}\n",
    "    p(x_*, \\theta|\\mathcal{D}) &=& \\frac{p(\\mathcal{D}, x_*, \\theta)}{p(\\mathcal{D})} \\\\\n",
    "    &=& \\frac{p(\\mathcal{D}|\\theta)p(x_*|\\theta)p(\\theta)}{p(\\mathcal{D})} \\\\\n",
    "    &=& p(x_*|\\theta)p(\\theta|\\mathcal{D})\n",
    "\\end{eqnarray}\n",
    "$$\n",
    "となる。"
   ]
  },
  {
   "cell_type": "markdown",
   "metadata": {},
   "source": [
    "> Note: $p(\\theta|\\mathcal{D}) = \\frac{p(\\mathcal{D}|\\theta)p(\\theta)}{p(\\mathcal{D})}$(ベイズの定理)を使った。"
   ]
  },
  {
   "cell_type": "markdown",
   "metadata": {},
   "source": [
    "### 予測分布の算出\n",
    "\n",
    "$\\mathcal{D}$が決まった時の$x_*$の確率分布、すなわち予測分布$p(x_*|\\mathcal{D}$は$\\theta$を積分除去することで得られる。\n",
    "\n",
    "$$p(x_*|\\mathcal{D}) = \\int p(x_*|\\theta)p(\\theta|\\mathcal{D}) d\\theta$$\n",
    "\n",
    "以上がベイズ推論の予測までを含めた一連の流れである。次回、離散確率分布について具体的にやってみる。"
   ]
  }
 ],
 "metadata": {
  "kernelspec": {
   "display_name": "Python 3",
   "language": "python",
   "name": "python3"
  },
  "language_info": {
   "codemirror_mode": {
    "name": "ipython",
    "version": 3
   },
   "file_extension": ".py",
   "mimetype": "text/x-python",
   "name": "python",
   "nbconvert_exporter": "python",
   "pygments_lexer": "ipython3",
   "version": "3.7.3"
  }
 },
 "nbformat": 4,
 "nbformat_minor": 2
}
